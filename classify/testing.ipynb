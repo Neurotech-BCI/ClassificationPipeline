{
 "cells": [
  {
   "cell_type": "code",
   "execution_count": null,
   "metadata": {},
   "outputs": [],
   "source": []
  },
  {
   "cell_type": "code",
   "execution_count": 2,
   "metadata": {},
   "outputs": [],
   "source": [
    "import os\n",
    "import pandas as pd\n",
    "import numpy as np\n",
    "import networkx as nx\n",
    "from scipy.signal import hilbert"
   ]
  },
  {
   "cell_type": "code",
   "execution_count": 3,
   "metadata": {},
   "outputs": [],
   "source": [
    "bands = {\n",
    "    'delta': (1, 4),\n",
    "    'theta': (4, 8),\n",
    "    'alpha': (8, 13),\n",
    "    'beta': (13, 30),\n",
    "    'gamma': (30, 50)\n",
    "}"
   ]
  },
  {
   "cell_type": "markdown",
   "metadata": {},
   "source": [
    "Bandpass filter the data"
   ]
  },
  {
   "cell_type": "code",
   "execution_count": 4,
   "metadata": {},
   "outputs": [],
   "source": [
    "from scipy.signal import butter, filtfilt\n",
    "\n",
    "def bandpass_filter(data, band, fs = 256, order=4, freq_bands = bands):\n",
    "    nyq = 0.5 * fs\n",
    "    band = freq_bands[band]\n",
    "    lowcut = band[0]\n",
    "    highcut = band[1]\n",
    "    low = lowcut / nyq\n",
    "    high = highcut / nyq\n",
    "    b, a = butter(order, [low, high], btype='band')\n",
    "    filtered_data = np.zeros_like(data)\n",
    "\n",
    "    # Loop through trials and channels\n",
    "    for trial in range(data.shape[0]):\n",
    "        for ch in range(data.shape[1]):\n",
    "            filtered_data[trial, ch, :] = filtfilt(b, a, data[trial, ch, :])\n",
    "    \n",
    "    return filtered_data"
   ]
  },
  {
   "cell_type": "markdown",
   "metadata": {},
   "source": [
    "Getting Data "
   ]
  },
  {
   "cell_type": "code",
   "execution_count": 5,
   "metadata": {},
   "outputs": [],
   "source": [
    "csv_1, csv_3, csv_5 = [], [], []"
   ]
  },
  {
   "cell_type": "code",
   "execution_count": null,
   "metadata": {},
   "outputs": [],
   "source": [
    "csvs_1, csvs_3, csvs_5 = [], [], []\n",
    "\n",
    "root_dir = \"/Users/anusha/Desktop/all_data\"\n",
    "\n",
    "for folder in os.listdir(root_dir):\n",
    "    top_folder_path = os.path.join(root_dir, folder)\n",
    "\n",
    "    if not os.path.isdir(top_folder_path):\n",
    "        continue\n",
    "\n",
    "    # Sort and filter only subfolders (ignore files like .DS_Store)\n",
    "    subfolders = sorted([\n",
    "        sf for sf in os.listdir(top_folder_path)\n",
    "        if os.path.isdir(os.path.join(top_folder_path, sf))\n",
    "    ])\n",
    "\n",
    "    for i, idx in enumerate([0, 2, 4]):  # 1st, 3rd, and 5th subfolders\n",
    "        try:\n",
    "            subfolder_path = os.path.join(top_folder_path, subfolders[idx])\n",
    "            for file in os.listdir(subfolder_path):\n",
    "                if file.endswith('.csv'):\n",
    "                    csv_path = os.path.join(subfolder_path, file)\n",
    "                    if i == 0:\n",
    "                        csvs_1.append(csv_path)\n",
    "                    elif i == 1:\n",
    "                        csvs_3.append(csv_path)\n",
    "                    elif i == 2:\n",
    "                        csvs_5.append(csv_path)\n",
    "        except IndexError:\n",
    "            print(f\"⚠️  {top_folder_path} has fewer than 5 subfolders.\")"
   ]
  },
  {
   "cell_type": "markdown",
   "metadata": {},
   "source": [
    "CSV to Numpy"
   ]
  },
  {
   "cell_type": "code",
   "execution_count": 7,
   "metadata": {},
   "outputs": [],
   "source": [
    "import numpy as np\n",
    "\n",
    "def csv_to_np(path):\n",
    "    data = np.genfromtxt(path, delimiter = '\\t', invalid_raise=False)\n",
    "    num_cols = data[0,:].shape[0]\n",
    "    filtered_data = np.array([row for row in data if len(row) == num_cols])\n",
    "    eeg_data = filtered_data[:, 0:17]\n",
    "    reset_indices = np.where(eeg_data[:,0] == 0)[0]\n",
    "    subarrays = [eeg_data[start:start + 128, 1:] for start in reset_indices]\n",
    "    target_shape = subarrays[0].shape\n",
    "    for i in range(len(subarrays)):\n",
    "        if subarrays[i].shape != target_shape:\n",
    "            del subarrays[i]\n",
    "    result_3d = np.array(subarrays)\n",
    "    result = np.transpose(result_3d, (0, 2, 1))\n",
    "    return result"
   ]
  },
  {
   "cell_type": "code",
   "execution_count": 8,
   "metadata": {},
   "outputs": [],
   "source": [
    "def get_data(paths):\n",
    "    d = []\n",
    "\n",
    "    for csv in paths:\n",
    "        data = csv_to_np(csv)\n",
    "        d.append(data)\n",
    "\n",
    "    return d\n",
    "        "
   ]
  },
  {
   "cell_type": "code",
   "execution_count": 9,
   "metadata": {},
   "outputs": [],
   "source": [
    "resting = get_data(csvs_1)\n",
    "middle = get_data(csvs_3)\n",
    "fatigue = get_data(csvs_5)"
   ]
  },
  {
   "cell_type": "markdown",
   "metadata": {},
   "source": [
    "Filtering data"
   ]
  },
  {
   "cell_type": "code",
   "execution_count": 10,
   "metadata": {},
   "outputs": [],
   "source": [
    "resting_delta = []\n",
    "for sample in resting:\n",
    "    resting_delta.append(bandpass_filter(sample, \"delta\"))\n",
    "\n",
    "resting_alpha = []\n",
    "for sample in resting:\n",
    "    resting_alpha.append(bandpass_filter(sample, \"alpha\"))\n",
    "\n",
    "resting_theta = []\n",
    "for sample in resting:\n",
    "    resting_theta.append(bandpass_filter(sample, \"theta\"))\n",
    "\n",
    "resting_beta = []\n",
    "for sample in resting:\n",
    "    resting_beta.append(bandpass_filter(sample, \"beta\"))"
   ]
  },
  {
   "cell_type": "code",
   "execution_count": 11,
   "metadata": {},
   "outputs": [],
   "source": [
    "fatigue_delta = []\n",
    "for sample in fatigue:\n",
    "    fatigue_delta.append(bandpass_filter(sample, \"delta\"))\n",
    "\n",
    "fatigue_beta = []\n",
    "for sample in fatigue:\n",
    "    fatigue_beta.append(bandpass_filter(sample, \"beta\"))\n",
    "\n",
    "fatigue_alpha = []\n",
    "for sample in fatigue:\n",
    "    fatigue_alpha.append(bandpass_filter(sample, \"alpha\"))\n",
    "\n",
    "fatigue_theta = []\n",
    "for sample in fatigue:\n",
    "    fatigue_theta.append(bandpass_filter(sample, \"theta\"))"
   ]
  },
  {
   "cell_type": "markdown",
   "metadata": {},
   "source": [
    "Coherence"
   ]
  },
  {
   "cell_type": "code",
   "execution_count": 12,
   "metadata": {},
   "outputs": [],
   "source": [
    "import numpy as np\n",
    "\n",
    "def coherence(signal, FS):\n",
    "    \"\"\"\n",
    "    signal: (channels, timesteps), averaged across trials\n",
    "    FS: sampling rate\n",
    "    Returns: (channels x channels) phase coherence matrix over full band\n",
    "    \"\"\"\n",
    "    signal = np.mean(signal, axis = 0)\n",
    "    n_channels, n_samples = signal.shape\n",
    "\n",
    "    # FFT and normalize by magnitude\n",
    "    spect = np.fft.fft(signal, axis=1)\n",
    "    spect = spect / np.abs(spect)\n",
    "\n",
    "    # Take only positive frequencies (avoid redundancy)\n",
    "    spect = spect[:, :n_samples // 2]\n",
    "    angles = np.angle(spect)\n",
    "\n",
    "    # Compute mean phase difference for each pair\n",
    "    pc_matrix = np.zeros((n_channels, n_channels))\n",
    "\n",
    "    for i in range(n_channels):\n",
    "        for j in range(i + 1, n_channels):\n",
    "            phase_diff = angles[i] - angles[j]\n",
    "            # Inter-trial phase coherence = length of average vector\n",
    "            pc = np.abs(np.mean(np.exp(1j * phase_diff)))\n",
    "            pc_matrix[i, j] = pc_matrix[j, i] = pc\n",
    "\n",
    "    return pc_matrix\n"
   ]
  },
  {
   "cell_type": "markdown",
   "metadata": {},
   "source": [
    "Phase Lag Index"
   ]
  },
  {
   "cell_type": "code",
   "execution_count": 13,
   "metadata": {},
   "outputs": [],
   "source": [
    "def phase_lag_index(data, FS = 256):\n",
    "    data = np.mean(data, axis = 0)\n",
    "    n_channels, n_samples = data.shape\n",
    "    pli_matrix = np.zeros((n_channels, n_channels))\n",
    "\n",
    "    # Get analytic signal via Hilbert transform\n",
    "    analytic_signal = hilbert(data, axis=1)\n",
    "    phase_data = np.angle(analytic_signal)\n",
    "\n",
    "    for i in range(n_channels):\n",
    "        for j in range(i + 1, n_channels):\n",
    "            phase_diff = phase_data[i] - phase_data[j]\n",
    "            pli = np.abs(np.mean(np.sign(np.sin(phase_diff))))\n",
    "            pli_matrix[i, j] = pli_matrix[j, i] = pli\n",
    "\n",
    "    return pli_matrix"
   ]
  },
  {
   "cell_type": "markdown",
   "metadata": {},
   "source": [
    "Phase Locking Value"
   ]
  },
  {
   "cell_type": "code",
   "execution_count": 14,
   "metadata": {},
   "outputs": [],
   "source": [
    "import numpy as np\n",
    "from scipy.signal import hilbert\n",
    "\n",
    "def phase_locking_value(data):\n",
    "\n",
    "    n_channels, n_times = data.shape\n",
    "    plv_matrix = np.zeros((n_channels, n_channels))\n",
    "\n",
    "    # Apply Hilbert transform to get analytic signal (complex-valued)\n",
    "    analytic_signal = hilbert(data, axis=1)\n",
    "    phases = np.angle(analytic_signal)\n",
    "\n",
    "    for i in range(n_channels):\n",
    "        for j in range(i + 1, n_channels):\n",
    "            phase_diff = phases[i] - phases[j]\n",
    "            plv = np.abs(np.sum(np.exp(1j * phase_diff)) / n_times)\n",
    "            plv_matrix[i, j] = plv_matrix[j, i] = plv\n",
    "\n",
    "    np.fill_diagonal(plv_matrix, 1)  # Diagonal = 1 (PLV with itself)\n",
    "    return plv_matrix"
   ]
  },
  {
   "cell_type": "markdown",
   "metadata": {},
   "source": [
    "Matrix to Graph"
   ]
  },
  {
   "cell_type": "code",
   "execution_count": 15,
   "metadata": {},
   "outputs": [],
   "source": [
    "def matrix_to_graph(matrix):\n",
    "    n_channels = matrix.shape[0]\n",
    "    G = nx.Graph()\n",
    "\n",
    "    for i in range(n_channels):\n",
    "        for j in range(i + 1, n_channels):\n",
    "            weight = matrix[i, j]\n",
    "            G.add_edge(i, j, weight=weight)\n",
    "\n",
    "    return G"
   ]
  },
  {
   "cell_type": "markdown",
   "metadata": {},
   "source": [
    "Node Strengths - Coherence"
   ]
  },
  {
   "cell_type": "code",
   "execution_count": 17,
   "metadata": {},
   "outputs": [],
   "source": [
    "def node_strengths(eeg_data, FS = 256):\n",
    "    \"\"\"\n",
    "    eeg_data: (trials, channels, timesteps)\n",
    "    FS: sampling rate\n",
    "    Returns: node strengths per channel (summed connectivity)\n",
    "    \"\"\"  \n",
    "    pc_matrix = coherence(eeg_data, FS)\n",
    "    np.fill_diagonal(pc_matrix, 0)\n",
    "    return np.sum(pc_matrix, axis=1)"
   ]
  },
  {
   "cell_type": "markdown",
   "metadata": {},
   "source": [
    "Betweenness Centrality - Phase Lag Index"
   ]
  },
  {
   "cell_type": "code",
   "execution_count": 16,
   "metadata": {},
   "outputs": [],
   "source": [
    "def betweenness_centrality(eeg_data, FS = 256):\n",
    "    matrix = phase_lag_index(eeg_data)\n",
    "    G = matrix_to_graph(matrix)\n",
    "    centrality_dict = nx.betweenness_centrality(G, weight='weight')\n",
    "    centrality_array = np.array([centrality_dict[node] for node in sorted(centrality_dict)])\n",
    "    return centrality_array"
   ]
  },
  {
   "cell_type": "markdown",
   "metadata": {},
   "source": [
    "Clustering Coefficient - Phase Lag Index"
   ]
  },
  {
   "cell_type": "code",
   "execution_count": 18,
   "metadata": {},
   "outputs": [],
   "source": [
    "def clustering_coefficient(eeg_data, FS = 256):\n",
    "    matrix = phase_lag_index(eeg_data)\n",
    "    G = matrix_to_graph(matrix)\n",
    "    clustering_dict = nx.clustering(G, weight='weight')\n",
    "    clustering_array = np.array([clustering_dict[node] for node in sorted(clustering_dict)])\n",
    "    return clustering_array"
   ]
  },
  {
   "cell_type": "markdown",
   "metadata": {},
   "source": [
    "Clustering Coefficient - Phase Lag Index"
   ]
  },
  {
   "cell_type": "code",
   "execution_count": 19,
   "metadata": {},
   "outputs": [],
   "source": [
    "def clustering_coefficient_plv(eeg_data, FS = 256):\n",
    "    matrix = phase_locking_value(eeg_data)\n",
    "    G = matrix_to_graph(matrix)\n",
    "    clustering_dict = nx.clustering(G, weight='weight')\n",
    "    clustering_array = np.array([clustering_dict[node] for node in sorted(clustering_dict)])\n",
    "    return clustering_array"
   ]
  },
  {
   "cell_type": "markdown",
   "metadata": {},
   "source": [
    "Make Channel Dominant"
   ]
  },
  {
   "cell_type": "code",
   "execution_count": 20,
   "metadata": {},
   "outputs": [],
   "source": [
    "def make_channel_dominant(data, n_channels = 16):\n",
    "    output = [[] for _ in range(n_channels)]\n",
    "    for sample in data:\n",
    "        for ch in range(n_channels):\n",
    "            output[ch].append(sample[ch])\n",
    "    return data"
   ]
  },
  {
   "cell_type": "markdown",
   "metadata": {},
   "source": [
    "Phase Lag Index = Delta"
   ]
  },
  {
   "cell_type": "code",
   "execution_count": 22,
   "metadata": {},
   "outputs": [],
   "source": [
    "resting_delta_bc = []\n",
    "for sample in resting_delta:\n",
    "    resting_delta_bc.append(betweenness_centrality(sample))\n",
    "\n",
    "fatigue_delta_bc = []\n",
    "for sample in fatigue_delta:\n",
    "    fatigue_delta_bc.append(betweenness_centrality(sample))"
   ]
  },
  {
   "cell_type": "code",
   "execution_count": 23,
   "metadata": {},
   "outputs": [],
   "source": [
    "resting_delta_bc = make_channel_dominant(resting_delta_bc)\n",
    "fatigue_delta_bc = make_channel_dominant(fatigue_delta_bc)"
   ]
  },
  {
   "cell_type": "code",
   "execution_count": 21,
   "metadata": {},
   "outputs": [
    {
     "data": {
      "text/plain": [
       "\"import matplotlib.pyplot as plt\\n\\nn_channels = len(resting_delta_bc)\\n\\nfor ch in range(n_channels):\\n    plt.figure(figsize=(8, 6))\\n    \\n    # Scatter plot for resting condition (blue points)\\n    plt.scatter(range(len(resting_delta_bc[ch])), resting_delta_bc[ch], label='Resting', color='blue', alpha=0.6)\\n    \\n    # Scatter plot for fatigued condition (red points)\\n    plt.scatter(range(len(fatigue_delta_bc[ch])), fatigue_delta_bc[ch], label='Fatigued', color='red', alpha=0.6)\\n    \\n    plt.title(f'Channel {ch+1} - Betweenness Centrality - Delta')\\n    plt.xlabel('Sample Index')\\n    plt.ylabel('Node Strength')\\n    plt.legend()\\n    plt.grid(True)\\n    plt.tight_layout()\""
      ]
     },
     "execution_count": 21,
     "metadata": {},
     "output_type": "execute_result"
    }
   ],
   "source": [
    "\"\"\"import matplotlib.pyplot as plt\n",
    "\n",
    "n_channels = len(resting_delta_bc)\n",
    "\n",
    "for ch in range(n_channels):\n",
    "    plt.figure(figsize=(8, 6))\n",
    "    \n",
    "    # Scatter plot for resting condition (blue points)\n",
    "    plt.scatter(range(len(resting_delta_bc[ch])), resting_delta_bc[ch], label='Resting', color='blue', alpha=0.6)\n",
    "    \n",
    "    # Scatter plot for fatigued condition (red points)\n",
    "    plt.scatter(range(len(fatigue_delta_bc[ch])), fatigue_delta_bc[ch], label='Fatigued', color='red', alpha=0.6)\n",
    "    \n",
    "    plt.title(f'Channel {ch+1} - Betweenness Centrality - Delta')\n",
    "    plt.xlabel('Sample Index')\n",
    "    plt.ylabel('Node Strength')\n",
    "    plt.legend()\n",
    "    plt.grid(True)\n",
    "    plt.tight_layout()\"\"\""
   ]
  },
  {
   "cell_type": "markdown",
   "metadata": {},
   "source": [
    "Phase Lag Index - Theta"
   ]
  },
  {
   "cell_type": "code",
   "execution_count": 24,
   "metadata": {},
   "outputs": [],
   "source": [
    "resting_theta_bc = []\n",
    "for sample in resting_theta:\n",
    "    resting_theta_bc.append(betweenness_centrality(sample))\n",
    "\n",
    "fatigue_theta_bc = []\n",
    "for sample in fatigue_theta:\n",
    "    fatigue_theta_bc.append(betweenness_centrality(sample))"
   ]
  },
  {
   "cell_type": "code",
   "execution_count": 25,
   "metadata": {},
   "outputs": [],
   "source": [
    "resting_theta_bc = make_channel_dominant(resting_theta_bc)\n",
    "fatigue_theta_bc = make_channel_dominant(fatigue_theta_bc)"
   ]
  },
  {
   "cell_type": "code",
   "execution_count": 26,
   "metadata": {},
   "outputs": [
    {
     "data": {
      "text/plain": [
       "\"import matplotlib.pyplot as plt\\n\\nn_channels = len(resting_theta_bc)\\n\\nfor ch in range(n_channels):\\n    plt.figure(figsize=(8, 6))\\n    \\n    # Scatter plot for resting condition (blue points)\\n    plt.scatter(range(len(resting_theta_bc[ch])), resting_theta_bc[ch], label='Resting', color='blue', alpha=0.6)\\n    \\n    # Scatter plot for fatigued condition (red points)\\n    plt.scatter(range(len(fatigue_theta_bc[ch])), fatigue_theta_bc[ch], label='Fatigued', color='red', alpha=0.6)\\n    \\n    plt.title(f'Channel {ch+1} - Betweenness Centrality - Delta')\\n    plt.xlabel('Sample Index')\\n    plt.ylabel('Node Strength')\\n    plt.legend()\\n    plt.grid(True)\\n    plt.tight_layout()\\n\\n    plt.show()\""
      ]
     },
     "execution_count": 26,
     "metadata": {},
     "output_type": "execute_result"
    }
   ],
   "source": [
    "\"\"\"import matplotlib.pyplot as plt\n",
    "\n",
    "n_channels = len(resting_theta_bc)\n",
    "\n",
    "for ch in range(n_channels):\n",
    "    plt.figure(figsize=(8, 6))\n",
    "    \n",
    "    # Scatter plot for resting condition (blue points)\n",
    "    plt.scatter(range(len(resting_theta_bc[ch])), resting_theta_bc[ch], label='Resting', color='blue', alpha=0.6)\n",
    "    \n",
    "    # Scatter plot for fatigued condition (red points)\n",
    "    plt.scatter(range(len(fatigue_theta_bc[ch])), fatigue_theta_bc[ch], label='Fatigued', color='red', alpha=0.6)\n",
    "    \n",
    "    plt.title(f'Channel {ch+1} - Betweenness Centrality - Delta')\n",
    "    plt.xlabel('Sample Index')\n",
    "    plt.ylabel('Node Strength')\n",
    "    plt.legend()\n",
    "    plt.grid(True)\n",
    "    plt.tight_layout()\n",
    "\n",
    "    plt.show()\"\"\""
   ]
  },
  {
   "cell_type": "markdown",
   "metadata": {},
   "source": [
    "Clustering Coefficient - Delta Band - PLI"
   ]
  },
  {
   "cell_type": "code",
   "execution_count": 27,
   "metadata": {},
   "outputs": [],
   "source": [
    "resting_delta_cc = []\n",
    "for sample in resting_delta:\n",
    "    resting_delta_cc.append(clustering_coefficient(sample))\n",
    "\n",
    "fatigue_delta_cc = []\n",
    "for sample in fatigue_delta:\n",
    "    fatigue_delta_cc.append(clustering_coefficient(sample))"
   ]
  },
  {
   "cell_type": "code",
   "execution_count": 28,
   "metadata": {},
   "outputs": [],
   "source": [
    "resting_delta_cc = make_channel_dominant(resting_delta_cc)\n",
    "fatigue_delta_cc = make_channel_dominant(fatigue_delta_cc)"
   ]
  },
  {
   "cell_type": "code",
   "execution_count": null,
   "metadata": {},
   "outputs": [],
   "source": [
    "\"\"\"import matplotlib.pyplot as plt\n",
    "\n",
    "n_channels = len(resting_delta_cc)\n",
    "\n",
    "for ch in range(n_channels):\n",
    "    plt.figure(figsize=(8, 6))\n",
    "    \n",
    "    # Scatter plot for resting condition (blue points)\n",
    "    plt.scatter(range(len(resting_delta_cc[ch])), resting_delta_cc[ch], label='Resting', color='blue', alpha=0.6)\n",
    "    \n",
    "    # Scatter plot for fatigued condition (red points)\n",
    "    plt.scatter(range(len(fatigue_delta_cc[ch])), fatigue_delta_cc[ch], label='Fatigued', color='red', alpha=0.6)\n",
    "    \n",
    "    plt.title(f'Channel {ch+1} - Clustering Coefficient - Delta')\n",
    "    plt.xlabel('Sample Index')\n",
    "    plt.ylabel('Node Strength')\n",
    "    plt.legend()\n",
    "    plt.grid(True)\n",
    "    plt.tight_layout()\n",
    "\n",
    "    plt.show()\"\"\""
   ]
  },
  {
   "cell_type": "code",
   "execution_count": null,
   "metadata": {},
   "outputs": [],
   "source": []
  }
 ],
 "metadata": {
  "kernelspec": {
   "display_name": "Python 3",
   "language": "python",
   "name": "python3"
  },
  "language_info": {
   "codemirror_mode": {
    "name": "ipython",
    "version": 3
   },
   "file_extension": ".py",
   "mimetype": "text/x-python",
   "name": "python",
   "nbconvert_exporter": "python",
   "pygments_lexer": "ipython3",
   "version": "3.11.7"
  }
 },
 "nbformat": 4,
 "nbformat_minor": 2
}
