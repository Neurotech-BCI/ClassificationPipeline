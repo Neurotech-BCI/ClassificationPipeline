{
 "cells": [
  {
   "cell_type": "code",
   "execution_count": 1,
   "metadata": {},
   "outputs": [
    {
     "name": "stderr",
     "output_type": "stream",
     "text": [
      "c:\\Users\\matth\\anaconda3\\envs\\neurotech\\Lib\\site-packages\\tqdm\\auto.py:21: TqdmWarning: IProgress not found. Please update jupyter and ipywidgets. See https://ipywidgets.readthedocs.io/en/stable/user_install.html\n",
      "  from .autonotebook import tqdm as notebook_tqdm\n"
     ]
    }
   ],
   "source": [
    "from datasets import load_dataset\n",
    "import numpy as np\n",
    "ds = load_dataset(\"JuniorThap/EEG-relaxation-concentration\")\n"
   ]
  },
  {
   "cell_type": "code",
   "execution_count": 2,
   "metadata": {},
   "outputs": [
    {
     "name": "stdout",
     "output_type": "stream",
     "text": [
      "(3767,)\n"
     ]
    }
   ],
   "source": [
    "labels = np.array(ds['train']['label'])\n",
    "print(labels.shape)"
   ]
  },
  {
   "cell_type": "code",
   "execution_count": 3,
   "metadata": {},
   "outputs": [
    {
     "name": "stdout",
     "output_type": "stream",
     "text": [
      "(3767, 14, 1250)\n"
     ]
    }
   ],
   "source": [
    "data = np.array(ds['train']['data'])\n",
    "print(data.shape)"
   ]
  },
  {
   "cell_type": "code",
   "execution_count": null,
   "metadata": {},
   "outputs": [
    {
     "name": "stdout",
     "output_type": "stream",
     "text": [
      "(3457, 14, 1250)\n",
      "(3457, 14, 1250)\n"
     ]
    }
   ],
   "source": [
    "mask = ~(data == 0).any(axis=(1, 2))\n",
    "filtered_data = data[mask]\n",
    "filtered_labels = labels[mask]\n",
    "print(filtered_data.shape)\n",
    "print(filtered_labels.shape)"
   ]
  },
  {
   "cell_type": "code",
   "execution_count": 5,
   "metadata": {},
   "outputs": [
    {
     "name": "stdout",
     "output_type": "stream",
     "text": [
      "(3457,)\n",
      "[[   0 1158]\n",
      " [   1 2299]]\n"
     ]
    }
   ],
   "source": [
    "from sklearn.preprocessing import LabelEncoder\n",
    "enc = LabelEncoder()\n",
    "labels_encoded = enc.fit_transform(filtered_labels)\n",
    "print(labels_encoded.shape)\n",
    "unique_labels, counts = np.unique(labels_encoded,return_counts=True)\n",
    "print(np.asarray((unique_labels, counts)).T)"
   ]
  },
  {
   "cell_type": "code",
   "execution_count": 6,
   "metadata": {},
   "outputs": [
    {
     "name": "stderr",
     "output_type": "stream",
     "text": [
      "[I 2025-02-17 14:12:19,737] A new study created in memory with name: no-name-4581f9d6-67be-4abc-bc32-aefcf2ca49de\n",
      "Best trial: 0. Best value: 0.676888:   7%|▋         | 1/15 [00:12<02:55, 12.57s/it]"
     ]
    },
    {
     "name": "stdout",
     "output_type": "stream",
     "text": [
      "[I 2025-02-17 14:12:32,302] Trial 0 finished with value: 0.6768882326861464 and parameters: {'0': True, '1': False, '2': False, '3': False, '4': True, '5': True, '6': False, '7': True, '8': False, '9': True, '10': True, '11': False, '12': False, '13': False, 'sample_entropy': False, 'alpha_bandpower': False, 'beta_bandpower': False, 'theta_bandpower': False, 'hjorth_activity': True, 'hjorth_mobility': False, 'hjorth_complexity': True}. Best is trial 0 with value: 0.6768882326861464.\n"
     ]
    },
    {
     "name": "stderr",
     "output_type": "stream",
     "text": [
      "Best trial: 1. Best value: 0.691638:  13%|█▎        | 2/15 [05:58<45:13, 208.75s/it]"
     ]
    },
    {
     "name": "stdout",
     "output_type": "stream",
     "text": [
      "[I 2025-02-17 14:18:18,382] Trial 1 finished with value: 0.6916377370485934 and parameters: {'0': True, '1': True, '2': True, '3': True, '4': False, '5': False, '6': True, '7': True, '8': True, '9': False, '10': True, '11': True, '12': False, '13': False, 'sample_entropy': True, 'alpha_bandpower': True, 'beta_bandpower': False, 'theta_bandpower': True, 'hjorth_activity': False, 'hjorth_mobility': True, 'hjorth_complexity': False}. Best is trial 1 with value: 0.6916377370485934.\n",
      "[I 2025-02-17 14:18:18,388] Trial 2 finished with value: 0.0 and parameters: {'0': False, '1': True, '2': False, '3': True, '4': False, '5': False, '6': False, '7': True, '8': True, '9': True, '10': True, '11': False, '12': True, '13': False, 'sample_entropy': False, 'alpha_bandpower': False, 'beta_bandpower': False, 'theta_bandpower': False, 'hjorth_activity': False, 'hjorth_mobility': False, 'hjorth_complexity': False}. Best is trial 1 with value: 0.6916377370485934.\n"
     ]
    },
    {
     "name": "stderr",
     "output_type": "stream",
     "text": [
      "Best trial: 1. Best value: 0.691638:  27%|██▋       | 4/15 [06:53<17:26, 95.16s/it] "
     ]
    },
    {
     "name": "stdout",
     "output_type": "stream",
     "text": [
      "[I 2025-02-17 14:19:13,529] Trial 3 finished with value: 0.6901863764503149 and parameters: {'0': False, '1': False, '2': True, '3': True, '4': False, '5': False, '6': True, '7': False, '8': True, '9': False, '10': False, '11': False, '12': False, '13': True, 'sample_entropy': True, 'alpha_bandpower': True, 'beta_bandpower': False, 'theta_bandpower': True, 'hjorth_activity': False, 'hjorth_mobility': True, 'hjorth_complexity': True}. Best is trial 1 with value: 0.6916377370485934.\n"
     ]
    },
    {
     "name": "stderr",
     "output_type": "stream",
     "text": [
      "Best trial: 1. Best value: 0.691638:  33%|███▎      | 5/15 [07:23<12:29, 74.95s/it]"
     ]
    },
    {
     "name": "stdout",
     "output_type": "stream",
     "text": [
      "[I 2025-02-17 14:19:43,358] Trial 4 finished with value: 0.6910701588549727 and parameters: {'0': True, '1': False, '2': True, '3': False, '4': False, '5': True, '6': True, '7': True, '8': False, '9': True, '10': False, '11': True, '12': False, '13': False, 'sample_entropy': False, 'alpha_bandpower': True, 'beta_bandpower': True, 'theta_bandpower': True, 'hjorth_activity': True, 'hjorth_mobility': True, 'hjorth_complexity': False}. Best is trial 1 with value: 0.6916377370485934.\n"
     ]
    },
    {
     "name": "stderr",
     "output_type": "stream",
     "text": [
      "Best trial: 1. Best value: 0.691638:  40%|████      | 6/15 [08:55<12:00, 80.04s/it]"
     ]
    },
    {
     "name": "stdout",
     "output_type": "stream",
     "text": [
      "[I 2025-02-17 14:21:14,922] Trial 5 finished with value: 0.6884577097780715 and parameters: {'0': False, '1': False, '2': True, '3': True, '4': False, '5': True, '6': False, '7': True, '8': True, '9': True, '10': True, '11': True, '12': False, '13': True, 'sample_entropy': True, 'alpha_bandpower': False, 'beta_bandpower': False, 'theta_bandpower': False, 'hjorth_activity': True, 'hjorth_mobility': True, 'hjorth_complexity': True}. Best is trial 1 with value: 0.6916377370485934.\n"
     ]
    },
    {
     "name": "stderr",
     "output_type": "stream",
     "text": [
      "Best trial: 1. Best value: 0.691638:  47%|████▋     | 7/15 [09:09<08:00, 60.05s/it]"
     ]
    },
    {
     "name": "stdout",
     "output_type": "stream",
     "text": [
      "[I 2025-02-17 14:21:29,301] Trial 6 finished with value: 0.6783312280936568 and parameters: {'0': True, '1': False, '2': True, '3': True, '4': True, '5': False, '6': True, '7': False, '8': False, '9': True, '10': True, '11': True, '12': False, '13': False, 'sample_entropy': False, 'alpha_bandpower': False, 'beta_bandpower': False, 'theta_bandpower': False, 'hjorth_activity': True, 'hjorth_mobility': True, 'hjorth_complexity': True}. Best is trial 1 with value: 0.6916377370485934.\n"
     ]
    },
    {
     "name": "stderr",
     "output_type": "stream",
     "text": [
      "Best trial: 1. Best value: 0.691638:  53%|█████▎    | 8/15 [09:28<05:32, 47.48s/it]"
     ]
    },
    {
     "name": "stdout",
     "output_type": "stream",
     "text": [
      "[I 2025-02-17 14:21:47,897] Trial 7 finished with value: 0.6751428356323667 and parameters: {'0': True, '1': True, '2': False, '3': False, '4': False, '5': True, '6': False, '7': True, '8': False, '9': False, '10': False, '11': True, '12': False, '13': True, 'sample_entropy': False, 'alpha_bandpower': True, 'beta_bandpower': True, 'theta_bandpower': True, 'hjorth_activity': False, 'hjorth_mobility': True, 'hjorth_complexity': True}. Best is trial 1 with value: 0.6916377370485934.\n"
     ]
    },
    {
     "name": "stderr",
     "output_type": "stream",
     "text": [
      "Best trial: 8. Best value: 0.695692:  60%|██████    | 9/15 [09:47<03:53, 38.94s/it]"
     ]
    },
    {
     "name": "stdout",
     "output_type": "stream",
     "text": [
      "[I 2025-02-17 14:22:07,104] Trial 8 finished with value: 0.6956919267543896 and parameters: {'0': True, '1': False, '2': False, '3': False, '4': False, '5': True, '6': False, '7': True, '8': True, '9': False, '10': False, '11': False, '12': True, '13': True, 'sample_entropy': False, 'alpha_bandpower': True, 'beta_bandpower': True, 'theta_bandpower': True, 'hjorth_activity': True, 'hjorth_mobility': False, 'hjorth_complexity': True}. Best is trial 8 with value: 0.6956919267543896.\n"
     ]
    },
    {
     "name": "stderr",
     "output_type": "stream",
     "text": [
      "Best trial: 8. Best value: 0.695692:  67%|██████▋   | 10/15 [10:01<02:37, 31.50s/it]"
     ]
    },
    {
     "name": "stdout",
     "output_type": "stream",
     "text": [
      "[I 2025-02-17 14:22:21,369] Trial 9 finished with value: 0.6786252645491581 and parameters: {'0': True, '1': True, '2': True, '3': False, '4': False, '5': False, '6': True, '7': False, '8': True, '9': True, '10': True, '11': False, '12': False, '13': False, 'sample_entropy': True, 'alpha_bandpower': True, 'beta_bandpower': False, 'theta_bandpower': True, 'hjorth_activity': True, 'hjorth_mobility': False, 'hjorth_complexity': False}. Best is trial 8 with value: 0.6956919267543896.\n"
     ]
    },
    {
     "name": "stderr",
     "output_type": "stream",
     "text": [
      "Best trial: 8. Best value: 0.695692:  73%|███████▎  | 11/15 [10:15<01:45, 26.32s/it]"
     ]
    },
    {
     "name": "stdout",
     "output_type": "stream",
     "text": [
      "[I 2025-02-17 14:22:35,667] Trial 10 finished with value: 0.689619634775771 and parameters: {'0': False, '1': False, '2': False, '3': False, '4': True, '5': True, '6': False, '7': False, '8': True, '9': False, '10': False, '11': False, '12': True, '13': True, 'sample_entropy': False, 'alpha_bandpower': True, 'beta_bandpower': True, 'theta_bandpower': True, 'hjorth_activity': True, 'hjorth_mobility': False, 'hjorth_complexity': True}. Best is trial 8 with value: 0.6956919267543896.\n"
     ]
    },
    {
     "name": "stderr",
     "output_type": "stream",
     "text": [
      "Best trial: 8. Best value: 0.695692:  80%|████████  | 12/15 [11:09<01:43, 34.44s/it]"
     ]
    },
    {
     "name": "stdout",
     "output_type": "stream",
     "text": [
      "[I 2025-02-17 14:23:28,985] Trial 11 finished with value: 0.6939494575173788 and parameters: {'0': True, '1': True, '2': False, '3': True, '4': False, '5': False, '6': True, '7': True, '8': True, '9': False, '10': False, '11': True, '12': True, '13': True, 'sample_entropy': True, 'alpha_bandpower': True, 'beta_bandpower': True, 'theta_bandpower': True, 'hjorth_activity': False, 'hjorth_mobility': False, 'hjorth_complexity': False}. Best is trial 8 with value: 0.6956919267543896.\n"
     ]
    },
    {
     "name": "stderr",
     "output_type": "stream",
     "text": [
      "Best trial: 8. Best value: 0.695692:  87%|████████▋ | 13/15 [11:24<00:57, 28.53s/it]"
     ]
    },
    {
     "name": "stdout",
     "output_type": "stream",
     "text": [
      "[I 2025-02-17 14:23:43,757] Trial 12 finished with value: 0.688460219335302 and parameters: {'0': True, '1': True, '2': False, '3': True, '4': False, '5': False, '6': False, '7': True, '8': True, '9': False, '10': False, '11': True, '12': True, '13': True, 'sample_entropy': True, 'alpha_bandpower': True, 'beta_bandpower': True, 'theta_bandpower': True, 'hjorth_activity': False, 'hjorth_mobility': False, 'hjorth_complexity': False}. Best is trial 8 with value: 0.6956919267543896.\n"
     ]
    },
    {
     "name": "stderr",
     "output_type": "stream",
     "text": [
      "Best trial: 8. Best value: 0.695692:  93%|█████████▎| 14/15 [11:39<00:24, 24.69s/it]"
     ]
    },
    {
     "name": "stdout",
     "output_type": "stream",
     "text": [
      "[I 2025-02-17 14:23:59,505] Trial 13 finished with value: 0.6826702525451093 and parameters: {'0': True, '1': True, '2': False, '3': False, '4': False, '5': True, '6': True, '7': True, '8': True, '9': False, '10': False, '11': False, '12': True, '13': True, 'sample_entropy': True, 'alpha_bandpower': True, 'beta_bandpower': True, 'theta_bandpower': True, 'hjorth_activity': False, 'hjorth_mobility': False, 'hjorth_complexity': False}. Best is trial 8 with value: 0.6956919267543896.\n"
     ]
    },
    {
     "name": "stderr",
     "output_type": "stream",
     "text": [
      "Best trial: 8. Best value: 0.695692: 100%|██████████| 15/15 [11:52<00:00, 47.48s/it]"
     ]
    },
    {
     "name": "stdout",
     "output_type": "stream",
     "text": [
      "[I 2025-02-17 14:24:12,002] Trial 14 finished with value: 0.680064913880361 and parameters: {'0': True, '1': False, '2': False, '3': True, '4': True, '5': False, '6': False, '7': True, '8': True, '9': False, '10': False, '11': False, '12': True, '13': True, 'sample_entropy': False, 'alpha_bandpower': True, 'beta_bandpower': True, 'theta_bandpower': True, 'hjorth_activity': False, 'hjorth_mobility': False, 'hjorth_complexity': True}. Best is trial 8 with value: 0.6956919267543896.\n",
      "{'0': True, '1': False, '2': False, '3': False, '4': False, '5': True, '6': False, '7': True, '8': True, '9': False, '10': False, '11': False, '12': True, '13': True, 'sample_entropy': False, 'alpha_bandpower': True, 'beta_bandpower': True, 'theta_bandpower': True, 'hjorth_activity': True, 'hjorth_mobility': False, 'hjorth_complexity': True}\n",
      "0.6956919267543896\n"
     ]
    },
    {
     "name": "stderr",
     "output_type": "stream",
     "text": [
      "\n"
     ]
    }
   ],
   "source": [
    "from classify import Optimizer\n",
    "from sklearn.ensemble import GradientBoostingClassifier\n",
    "from classify import classify_sklearn\n",
    "\n",
    "optimizer = Optimizer(channels=[i for i in range(filtered_data.shape[1])],classifier=classify_sklearn,sfreq=256,model=GradientBoostingClassifier())\n",
    "best_params, best_accuracy = optimizer.optimize_hyperparameters(filtered_data,labels_encoded)\n",
    "print(best_params)\n",
    "print(best_accuracy)"
   ]
  },
  {
   "cell_type": "code",
   "execution_count": 7,
   "metadata": {},
   "outputs": [
    {
     "name": "stdout",
     "output_type": "stream",
     "text": [
      "[0, 5, 7, 8, 12, 13]\n",
      "['alpha_bandpower', 'beta_bandpower', 'theta_bandpower', 'hjorth_activity', 'hjorth_complexity']\n"
     ]
    }
   ],
   "source": [
    "selected_channels = []\n",
    "desired_features = []\n",
    "for i, (param, value) in enumerate(best_params.items()):\n",
    "   if value:\n",
    "       if param.isdigit():\n",
    "           selected_channels.append(int(param))\n",
    "       else:\n",
    "           desired_features.append(param)\n",
    "print(selected_channels)\n",
    "print(desired_features)\n"
   ]
  },
  {
   "cell_type": "code",
   "execution_count": 8,
   "metadata": {},
   "outputs": [
    {
     "name": "stdout",
     "output_type": "stream",
     "text": [
      "(907, 14, 1250)\n"
     ]
    }
   ],
   "source": [
    "test_data = np.array(ds['test']['data'])\n",
    "print(test_data.shape)"
   ]
  },
  {
   "cell_type": "code",
   "execution_count": 9,
   "metadata": {},
   "outputs": [
    {
     "name": "stdout",
     "output_type": "stream",
     "text": [
      "(907,)\n"
     ]
    }
   ],
   "source": [
    "test_labels = np.array(ds['test']['label'])\n",
    "print(test_labels.shape)"
   ]
  },
  {
   "cell_type": "code",
   "execution_count": 11,
   "metadata": {},
   "outputs": [
    {
     "name": "stdout",
     "output_type": "stream",
     "text": [
      "(838, 14, 1250)\n",
      "(838,)\n"
     ]
    }
   ],
   "source": [
    "mask = ~(test_data == 0).any(axis=(1, 2))\n",
    "filtered_data_test = test_data[mask]\n",
    "filtered_labels_test = test_labels[mask]\n",
    "print(filtered_data_test.shape)\n",
    "print(filtered_labels_test.shape)"
   ]
  },
  {
   "cell_type": "code",
   "execution_count": 12,
   "metadata": {},
   "outputs": [
    {
     "name": "stdout",
     "output_type": "stream",
     "text": [
      "(838, 6, 5)\n"
     ]
    }
   ],
   "source": [
    "from classify import FeatureWrapper\n",
    "wrapper = FeatureWrapper()\n",
    "processed_samples_test = []\n",
    "for i, sample in enumerate(filtered_data_test):\n",
    "    features = wrapper.compute_features(sample,i,256,selected_channels,desired_features=desired_features)\n",
    "    processed_samples_test.append(features)\n",
    "processed_samples_test = np.array(processed_samples_test)\n",
    "print(processed_samples_test.shape)"
   ]
  },
  {
   "cell_type": "code",
   "execution_count": 13,
   "metadata": {},
   "outputs": [
    {
     "name": "stdout",
     "output_type": "stream",
     "text": [
      "(3457, 6, 5)\n"
     ]
    }
   ],
   "source": [
    "processed_samples = []\n",
    "wrapper = FeatureWrapper()\n",
    "for i, sample in enumerate(filtered_data):\n",
    "    features = wrapper.compute_features(sample,i,256,selected_channels,desired_features=desired_features)\n",
    "    processed_samples.append(features)\n",
    "processed_samples = np.array(processed_samples)\n",
    "print(processed_samples.shape)"
   ]
  },
  {
   "cell_type": "code",
   "execution_count": 14,
   "metadata": {},
   "outputs": [
    {
     "name": "stdout",
     "output_type": "stream",
     "text": [
      "(838,)\n",
      "[[  0 273]\n",
      " [  1 565]]\n"
     ]
    }
   ],
   "source": [
    "from sklearn.preprocessing import LabelEncoder\n",
    "enc = LabelEncoder()\n",
    "labels_encoded_test = enc.fit_transform(filtered_labels_test)\n",
    "print(labels_encoded_test.shape)\n",
    "unique_labels, counts = np.unique(labels_encoded_test,return_counts=True)\n",
    "print(np.asarray((unique_labels, counts)).T)"
   ]
  },
  {
   "cell_type": "code",
   "execution_count": 17,
   "metadata": {},
   "outputs": [
    {
     "name": "stdout",
     "output_type": "stream",
     "text": [
      "Accuracy: 0.6778042959427207\n",
      "Precision: 0.6778042959427207\n",
      "Recall: 0.6778042959427207\n",
      "F1: 0.6778042959427207\n"
     ]
    }
   ],
   "source": [
    "from sklearn.ensemble import GradientBoostingClassifier\n",
    "from sklearn.metrics import accuracy_score, precision_score, recall_score, f1_score\n",
    "\n",
    "model = GradientBoostingClassifier()\n",
    "X_train = np.reshape(processed_samples,(processed_samples.shape[0],-1))\n",
    "X_test = np.reshape(processed_samples_test,(processed_samples_test.shape[0],-1))\n",
    "model.fit(X_train,labels_encoded)\n",
    "y_pred = model.predict(X_test)\n",
    "accuracy = accuracy_score(labels_encoded_test,y_pred)\n",
    "precision = precision_score(labels_encoded_test,y_pred,average='weighted')\n",
    "recall = recall_score(labels_encoded_test,y_pred,average='weighted')\n",
    "f1 = f1_score(labels_encoded_test,y_pred,average='weighted')\n",
    "print(f\"Accuracy: {accuracy}\")\n",
    "print(f\"Precision: {accuracy}\")\n",
    "print(f\"Recall: {accuracy}\")\n",
    "print(f\"F1: {accuracy}\")\n",
    "\n"
   ]
  }
 ],
 "metadata": {
  "kernelspec": {
   "display_name": "neurotech",
   "language": "python",
   "name": "python3"
  },
  "language_info": {
   "codemirror_mode": {
    "name": "ipython",
    "version": 3
   },
   "file_extension": ".py",
   "mimetype": "text/x-python",
   "name": "python",
   "nbconvert_exporter": "python",
   "pygments_lexer": "ipython3",
   "version": "3.13.1"
  }
 },
 "nbformat": 4,
 "nbformat_minor": 2
}
