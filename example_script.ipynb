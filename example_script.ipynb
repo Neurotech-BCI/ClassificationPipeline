{
 "cells": [
  {
   "cell_type": "code",
   "execution_count": null,
   "metadata": {},
   "outputs": [
    {
     "name": "stdout",
     "output_type": "stream",
     "text": [
      "(154, 224, 1280)\n"
     ]
    }
   ],
   "source": [
    "import numpy as np \n",
    "data = np.load(\"emotion_toy_data/emotion_eeg.npy\")\n",
    "print(data.shape)"
   ]
  },
  {
   "cell_type": "code",
   "execution_count": null,
   "metadata": {},
   "outputs": [
    {
     "name": "stdout",
     "output_type": "stream",
     "text": [
      "(154,)\n"
     ]
    }
   ],
   "source": [
    "labels = np.load(\"emotion_toy_data/emotion_labels.npy\")\n",
    "print(labels.shape)"
   ]
  },
  {
   "cell_type": "code",
   "execution_count": 14,
   "metadata": {},
   "outputs": [
    {
     "name": "stdout",
     "output_type": "stream",
     "text": [
      "(154, 224, 1280)\n",
      "(154,)\n"
     ]
    }
   ],
   "source": [
    "mask = ~(data == 0).any(axis=(1, 2))\n",
    "filtered_data = data[mask]\n",
    "filtered_labels = labels[mask]\n",
    "print(filtered_data.shape)\n",
    "print(filtered_labels.shape)"
   ]
  },
  {
   "cell_type": "code",
   "execution_count": 15,
   "metadata": {},
   "outputs": [
    {
     "name": "stdout",
     "output_type": "stream",
     "text": [
      "(154,)\n",
      "[[ 0 11]\n",
      " [ 1 11]\n",
      " [ 2 11]\n",
      " [ 3 11]\n",
      " [ 4 11]\n",
      " [ 5 11]\n",
      " [ 6 11]\n",
      " [ 7 11]\n",
      " [ 8 11]\n",
      " [ 9 11]\n",
      " [10 11]\n",
      " [11 11]\n",
      " [12 11]\n",
      " [13 11]]\n"
     ]
    }
   ],
   "source": [
    "from sklearn.preprocessing import LabelEncoder\n",
    "enc = LabelEncoder()\n",
    "labels_encoded = enc.fit_transform(filtered_labels)\n",
    "print(labels_encoded.shape)\n",
    "unique_labels, counts = np.unique(labels_encoded,return_counts=True)\n",
    "print(np.asarray((unique_labels, counts)).T)"
   ]
  },
  {
   "cell_type": "code",
   "execution_count": 16,
   "metadata": {},
   "outputs": [
    {
     "name": "stdout",
     "output_type": "stream",
     "text": [
      "(138, 224, 1280)\n",
      "(16, 224, 1280)\n",
      "(138,)\n",
      "(16,)\n"
     ]
    }
   ],
   "source": [
    "from sklearn.model_selection import train_test_split \n",
    "X_train, X_test, y_train, y_test = train_test_split(filtered_data,labels_encoded,test_size=0.1)\n",
    "print(X_train.shape)\n",
    "print(X_test.shape)\n",
    "print(y_train.shape)\n",
    "print(y_test.shape)"
   ]
  },
  {
   "cell_type": "code",
   "execution_count": 17,
   "metadata": {},
   "outputs": [
    {
     "name": "stdout",
     "output_type": "stream",
     "text": [
      "[[ 0 10]\n",
      " [ 1 10]\n",
      " [ 2  8]\n",
      " [ 3 10]\n",
      " [ 4  9]\n",
      " [ 5 11]\n",
      " [ 6  9]\n",
      " [ 7 11]\n",
      " [ 8 10]\n",
      " [ 9  9]\n",
      " [10 11]\n",
      " [11  9]\n",
      " [12 10]\n",
      " [13 11]]\n"
     ]
    }
   ],
   "source": [
    "unique_labels, counts = np.unique(y_train,return_counts=True)\n",
    "print(np.asarray((unique_labels, counts)).T)"
   ]
  },
  {
   "cell_type": "code",
   "execution_count": 18,
   "metadata": {},
   "outputs": [
    {
     "name": "stdout",
     "output_type": "stream",
     "text": [
      "[[ 0  1]\n",
      " [ 1  1]\n",
      " [ 2  3]\n",
      " [ 3  1]\n",
      " [ 4  2]\n",
      " [ 6  2]\n",
      " [ 8  1]\n",
      " [ 9  2]\n",
      " [11  2]\n",
      " [12  1]]\n"
     ]
    }
   ],
   "source": [
    "unique_labels, counts = np.unique(y_test,return_counts=True)\n",
    "print(np.asarray((unique_labels, counts)).T)"
   ]
  },
  {
   "cell_type": "code",
   "execution_count": null,
   "metadata": {},
   "outputs": [],
   "source": [
    "from classify import Optimizer\n",
    "from sklearn.ensemble import GradientBoostingClassifier\n",
    "from classify import classify_sklearn\n",
    "\n",
    "optimizer = Optimizer(channels=[i for i in range(X_train.shape[1])],classifier=classify_sklearn,sfreq=256,model=GradientBoostingClassifier())\n",
    "best_params, best_accuracy = optimizer.optimize_hyperparameters(X_train,y_train)\n",
    "print(best_params)\n",
    "print(best_accuracy)"
   ]
  },
  {
   "cell_type": "code",
   "execution_count": null,
   "metadata": {},
   "outputs": [],
   "source": [
    "selected_channels = []\n",
    "desired_features = []\n",
    "for i, (param, value) in enumerate(best_params.items()):\n",
    "   if value:\n",
    "       if param.isdigit():\n",
    "           selected_channels.append(int(param))\n",
    "       else:\n",
    "           desired_features.append(param)\n",
    "print(selected_channels)\n",
    "print(desired_features)\n"
   ]
  },
  {
   "cell_type": "code",
   "execution_count": 20,
   "metadata": {},
   "outputs": [
    {
     "name": "stdout",
     "output_type": "stream",
     "text": [
      "(16, 224, 3)\n"
     ]
    }
   ],
   "source": [
    "from classify import FeatureWrapper\n",
    "wrapper = FeatureWrapper()\n",
    "processed_samples_test = []\n",
    "for i, sample in enumerate(X_test):\n",
    "    features = wrapper.compute_features(sample,i,256,selected_channels,desired_features=desired_features)\n",
    "    processed_samples_test.append(features)\n",
    "processed_samples_test = np.array(processed_samples_test)\n",
    "print(processed_samples_test.shape)"
   ]
  },
  {
   "cell_type": "code",
   "execution_count": 21,
   "metadata": {},
   "outputs": [
    {
     "name": "stdout",
     "output_type": "stream",
     "text": [
      "(138, 224, 3)\n"
     ]
    }
   ],
   "source": [
    "processed_samples = []\n",
    "wrapper = FeatureWrapper()\n",
    "for i, sample in enumerate(X_train):\n",
    "    features = wrapper.compute_features(sample,i,256,selected_channels,desired_features=desired_features)\n",
    "    processed_samples.append(features)\n",
    "processed_samples = np.array(processed_samples)\n",
    "print(processed_samples.shape)"
   ]
  },
  {
   "cell_type": "code",
   "execution_count": 22,
   "metadata": {},
   "outputs": [
    {
     "name": "stdout",
     "output_type": "stream",
     "text": [
      "Accuracy: 0.625\n",
      "Precision: 0.625\n",
      "Recall: 0.625\n",
      "F1: 0.625\n"
     ]
    },
    {
     "name": "stderr",
     "output_type": "stream",
     "text": [
      "c:\\Users\\matth\\anaconda3\\envs\\neurotech\\Lib\\site-packages\\sklearn\\metrics\\_classification.py:1565: UndefinedMetricWarning: Precision is ill-defined and being set to 0.0 in labels with no predicted samples. Use `zero_division` parameter to control this behavior.\n",
      "  _warn_prf(average, modifier, f\"{metric.capitalize()} is\", len(result))\n",
      "c:\\Users\\matth\\anaconda3\\envs\\neurotech\\Lib\\site-packages\\sklearn\\metrics\\_classification.py:1565: UndefinedMetricWarning: Recall is ill-defined and being set to 0.0 in labels with no true samples. Use `zero_division` parameter to control this behavior.\n",
      "  _warn_prf(average, modifier, f\"{metric.capitalize()} is\", len(result))\n"
     ]
    }
   ],
   "source": [
    "from sklearn.ensemble import GradientBoostingClassifier\n",
    "from sklearn.metrics import accuracy_score, precision_score, recall_score, f1_score\n",
    "\n",
    "model = GradientBoostingClassifier()\n",
    "X_train = np.reshape(processed_samples,(processed_samples.shape[0],-1))\n",
    "X_test = np.reshape(processed_samples_test,(processed_samples_test.shape[0],-1))\n",
    "model.fit(X_train,y_train)\n",
    "y_pred = model.predict(X_test)\n",
    "accuracy = accuracy_score(y_test,y_pred)\n",
    "precision = precision_score(y_test,y_pred,average='weighted')\n",
    "recall = recall_score(y_test,y_pred,average='weighted')\n",
    "f1 = f1_score(y_test,y_pred,average='weighted')\n",
    "print(f\"Accuracy: {accuracy}\")\n",
    "print(f\"Precision: {accuracy}\")\n",
    "print(f\"Recall: {accuracy}\")\n",
    "print(f\"F1: {accuracy}\")\n",
    "\n"
   ]
  }
 ],
 "metadata": {
  "kernelspec": {
   "display_name": "neurotech",
   "language": "python",
   "name": "python3"
  },
  "language_info": {
   "codemirror_mode": {
    "name": "ipython",
    "version": 3
   },
   "file_extension": ".py",
   "mimetype": "text/x-python",
   "name": "python",
   "nbconvert_exporter": "python",
   "pygments_lexer": "ipython3",
   "version": "3.13.1"
  }
 },
 "nbformat": 4,
 "nbformat_minor": 2
}
