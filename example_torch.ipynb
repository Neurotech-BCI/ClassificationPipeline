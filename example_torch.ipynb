{
 "cells": [
  {
   "cell_type": "code",
   "execution_count": null,
   "metadata": {},
   "outputs": [
    {
     "name": "stdout",
     "output_type": "stream",
     "text": [
      "(154, 224, 1280)\n"
     ]
    }
   ],
   "source": [
    "import numpy as np \n",
    "data = np.load(\"emotion_toy_data/emotion_eeg.npy\")\n",
    "print(data.shape)"
   ]
  },
  {
   "cell_type": "code",
   "execution_count": null,
   "metadata": {},
   "outputs": [
    {
     "name": "stdout",
     "output_type": "stream",
     "text": [
      "(154,)\n"
     ]
    }
   ],
   "source": [
    "labels = np.load(\"emotion_toy_data/emotion_labels.npy\")\n",
    "print(labels.shape)"
   ]
  },
  {
   "cell_type": "code",
   "execution_count": 3,
   "metadata": {},
   "outputs": [
    {
     "name": "stdout",
     "output_type": "stream",
     "text": [
      "(154, 224, 1280)\n",
      "(154,)\n"
     ]
    }
   ],
   "source": [
    "mask = ~(data == 0).any(axis=(1, 2))\n",
    "filtered_data = data[mask]\n",
    "filtered_labels = labels[mask]\n",
    "print(filtered_data.shape)\n",
    "print(filtered_labels.shape)"
   ]
  },
  {
   "cell_type": "code",
   "execution_count": 4,
   "metadata": {},
   "outputs": [
    {
     "name": "stdout",
     "output_type": "stream",
     "text": [
      "(154,)\n",
      "[[ 0 11]\n",
      " [ 1 11]\n",
      " [ 2 11]\n",
      " [ 3 11]\n",
      " [ 4 11]\n",
      " [ 5 11]\n",
      " [ 6 11]\n",
      " [ 7 11]\n",
      " [ 8 11]\n",
      " [ 9 11]\n",
      " [10 11]\n",
      " [11 11]\n",
      " [12 11]\n",
      " [13 11]]\n"
     ]
    }
   ],
   "source": [
    "from sklearn.preprocessing import LabelEncoder\n",
    "enc = LabelEncoder()\n",
    "labels_encoded = enc.fit_transform(filtered_labels)\n",
    "print(labels_encoded.shape)\n",
    "unique_labels, counts = np.unique(labels_encoded,return_counts=True)\n",
    "print(np.asarray((unique_labels, counts)).T)"
   ]
  },
  {
   "cell_type": "code",
   "execution_count": 15,
   "metadata": {},
   "outputs": [
    {
     "name": "stdout",
     "output_type": "stream",
     "text": [
      "Device: cuda:0\n",
      "Epoch [1/20], Loss: 4.3388\n",
      "Epoch [2/20], Loss: 3.5749\n",
      "Epoch [3/20], Loss: 3.3316\n",
      "Epoch [4/20], Loss: 2.8752\n",
      "Epoch [5/20], Loss: 2.4451\n",
      "Epoch [6/20], Loss: 2.0043\n",
      "Epoch [7/20], Loss: 1.6665\n",
      "Epoch [8/20], Loss: 1.1873\n",
      "Epoch [9/20], Loss: 0.9331\n",
      "Epoch [10/20], Loss: 0.8251\n",
      "Epoch [11/20], Loss: 0.5544\n",
      "Epoch [12/20], Loss: 0.5371\n",
      "Epoch [13/20], Loss: 0.4627\n",
      "Epoch [14/20], Loss: 0.4666\n",
      "Epoch [15/20], Loss: 0.4554\n",
      "Epoch [16/20], Loss: 0.4489\n",
      "Epoch [17/20], Loss: 0.4347\n",
      "Epoch [18/20], Loss: 0.4253\n",
      "Epoch [19/20], Loss: 0.4402\n",
      "Epoch [20/20], Loss: 0.4226\n",
      "Mean accuracy for current fold: 0.6129032258064516\n",
      "Epoch [1/20], Loss: 4.6931\n",
      "Epoch [2/20], Loss: 3.4038\n",
      "Epoch [3/20], Loss: 3.1068\n",
      "Epoch [4/20], Loss: 2.7997\n",
      "Epoch [5/20], Loss: 2.6413\n",
      "Epoch [6/20], Loss: 2.0154\n",
      "Epoch [7/20], Loss: 1.7242\n",
      "Epoch [8/20], Loss: 1.2997\n",
      "Epoch [9/20], Loss: 1.0291\n",
      "Epoch [10/20], Loss: 0.8424\n",
      "Epoch [11/20], Loss: 0.6749\n",
      "Epoch [12/20], Loss: 0.5558\n",
      "Epoch [13/20], Loss: 0.4964\n",
      "Epoch [14/20], Loss: 0.5752\n",
      "Epoch [15/20], Loss: 0.4794\n",
      "Epoch [16/20], Loss: 0.4686\n",
      "Epoch [17/20], Loss: 0.4598\n",
      "Epoch [18/20], Loss: 0.4405\n",
      "Epoch [19/20], Loss: 0.4408\n",
      "Epoch [20/20], Loss: 0.4418\n",
      "Mean accuracy for current fold: 0.5806451612903226\n",
      "Epoch [1/20], Loss: 4.6344\n",
      "Epoch [2/20], Loss: 3.2890\n",
      "Epoch [3/20], Loss: 2.7913\n",
      "Epoch [4/20], Loss: 2.5169\n",
      "Epoch [5/20], Loss: 2.2910\n",
      "Epoch [6/20], Loss: 1.9123\n",
      "Epoch [7/20], Loss: 1.2506\n",
      "Epoch [8/20], Loss: 1.0682\n",
      "Epoch [9/20], Loss: 0.8147\n",
      "Epoch [10/20], Loss: 0.7215\n",
      "Epoch [11/20], Loss: 0.6224\n",
      "Epoch [12/20], Loss: 0.5521\n",
      "Epoch [13/20], Loss: 0.5534\n",
      "Epoch [14/20], Loss: 0.4594\n",
      "Epoch [15/20], Loss: 0.4637\n",
      "Epoch [16/20], Loss: 0.4431\n",
      "Epoch [17/20], Loss: 0.4394\n",
      "Epoch [18/20], Loss: 0.4438\n",
      "Epoch [19/20], Loss: 0.4377\n",
      "Epoch [20/20], Loss: 0.4340\n",
      "Mean accuracy for current fold: 0.5806451612903226\n",
      "Epoch [1/20], Loss: 4.7563\n",
      "Epoch [2/20], Loss: 3.5129\n",
      "Epoch [3/20], Loss: 3.2187\n",
      "Epoch [4/20], Loss: 3.4911\n",
      "Epoch [5/20], Loss: 2.9375\n",
      "Epoch [6/20], Loss: 2.6757\n",
      "Epoch [7/20], Loss: 2.4312\n",
      "Epoch [8/20], Loss: 1.8862\n",
      "Epoch [9/20], Loss: 1.4043\n",
      "Epoch [10/20], Loss: 1.3338\n",
      "Epoch [11/20], Loss: 0.8632\n",
      "Epoch [12/20], Loss: 0.7691\n",
      "Epoch [13/20], Loss: 0.5779\n",
      "Epoch [14/20], Loss: 0.5091\n",
      "Epoch [15/20], Loss: 0.5275\n",
      "Epoch [16/20], Loss: 0.4734\n",
      "Epoch [17/20], Loss: 0.4483\n",
      "Epoch [18/20], Loss: 0.4606\n",
      "Epoch [19/20], Loss: 0.4408\n",
      "Epoch [20/20], Loss: 0.4409\n",
      "Mean accuracy for current fold: 0.5483870967741935\n",
      "Epoch [1/20], Loss: 4.4237\n",
      "Epoch [2/20], Loss: 3.5470\n",
      "Epoch [3/20], Loss: 3.1924\n",
      "Epoch [4/20], Loss: 2.9651\n",
      "Epoch [5/20], Loss: 2.8939\n",
      "Epoch [6/20], Loss: 2.5496\n",
      "Epoch [7/20], Loss: 2.1334\n",
      "Epoch [8/20], Loss: 1.6889\n",
      "Epoch [9/20], Loss: 1.3046\n",
      "Epoch [10/20], Loss: 1.0071\n",
      "Epoch [11/20], Loss: 0.9019\n",
      "Epoch [12/20], Loss: 0.6014\n",
      "Epoch [13/20], Loss: 0.5204\n",
      "Epoch [14/20], Loss: 0.5315\n",
      "Epoch [15/20], Loss: 0.4563\n",
      "Epoch [16/20], Loss: 0.4548\n",
      "Epoch [17/20], Loss: 0.4638\n",
      "Epoch [18/20], Loss: 0.4770\n",
      "Epoch [19/20], Loss: 0.4686\n",
      "Epoch [20/20], Loss: 0.4519\n",
      "Mean accuracy for current fold: 0.5\n"
     ]
    }
   ],
   "source": [
    "from classify import classify_torch\n",
    "from classify import EEGNet\n",
    "kwargs = {'num_electrodes':filtered_data.shape[1], 'chunk_size': filtered_data.shape[-1],'num_classes':len(unique_labels)}\n",
    "metrics_dict = classify_torch(filtered_data,labels_encoded,EEGNet,kwargs=kwargs,bayesian=True,num_epochs=20)"
   ]
  },
  {
   "cell_type": "code",
   "execution_count": 16,
   "metadata": {},
   "outputs": [
    {
     "name": "stdout",
     "output_type": "stream",
     "text": [
      "{'mean_accuracy': 0.5645161290322581, 'best_accuracy': 0.6129032258064516, 'worst_accuracy': 0.5, 'mean_precision': 0.592258064516129, 'best_precision': 0.6236559139784946, 'worst_precision': 0.55, 'mean_recall': 0.5645161290322581, 'best_recall': 0.6129032258064516, 'worst_recall': 0.5, 'mean_f1': 0.5484178187403994, 'best_f1': 0.5721966205837173, 'worst_f1': 0.5, 'mean_difference': 2.1298701298701297, 'median_difference': 0.0}\n"
     ]
    }
   ],
   "source": [
    "print(metrics_dict)"
   ]
  }
 ],
 "metadata": {
  "kernelspec": {
   "display_name": "cuda",
   "language": "python",
   "name": "python3"
  },
  "language_info": {
   "codemirror_mode": {
    "name": "ipython",
    "version": 3
   },
   "file_extension": ".py",
   "mimetype": "text/x-python",
   "name": "python",
   "nbconvert_exporter": "python",
   "pygments_lexer": "ipython3",
   "version": "3.12.3"
  }
 },
 "nbformat": 4,
 "nbformat_minor": 2
}
