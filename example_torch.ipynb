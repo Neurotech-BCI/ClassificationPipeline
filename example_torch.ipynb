{
 "cells": [
  {
   "cell_type": "code",
   "execution_count": 1,
   "metadata": {},
   "outputs": [
    {
     "name": "stderr",
     "output_type": "stream",
     "text": [
      "c:\\Users\\matth\\anaconda3\\envs\\cuda\\Lib\\site-packages\\tqdm\\auto.py:21: TqdmWarning: IProgress not found. Please update jupyter and ipywidgets. See https://ipywidgets.readthedocs.io/en/stable/user_install.html\n",
      "  from .autonotebook import tqdm as notebook_tqdm\n",
      "Downloading readme: 100%|██████████| 434/434 [00:00<00:00, 4.07kB/s]\n"
     ]
    }
   ],
   "source": [
    "from datasets import load_dataset\n",
    "import numpy as np\n",
    "ds = load_dataset(\"JuniorThap/EEG-relaxation-concentration\")"
   ]
  },
  {
   "cell_type": "code",
   "execution_count": 2,
   "metadata": {},
   "outputs": [
    {
     "name": "stdout",
     "output_type": "stream",
     "text": [
      "(3767,)\n"
     ]
    }
   ],
   "source": [
    "labels = np.array(ds['train']['label'])\n",
    "print(labels.shape)"
   ]
  },
  {
   "cell_type": "code",
   "execution_count": 3,
   "metadata": {},
   "outputs": [
    {
     "name": "stdout",
     "output_type": "stream",
     "text": [
      "(3767, 14, 1250)\n"
     ]
    }
   ],
   "source": [
    "data = np.array(ds['train']['data'])\n",
    "print(data.shape)"
   ]
  },
  {
   "cell_type": "code",
   "execution_count": 4,
   "metadata": {},
   "outputs": [
    {
     "name": "stdout",
     "output_type": "stream",
     "text": [
      "(3457, 14, 1250)\n",
      "(3457,)\n"
     ]
    }
   ],
   "source": [
    "mask = ~(data == 0).any(axis=(1, 2))\n",
    "filtered_data = data[mask]\n",
    "filtered_labels = labels[mask]\n",
    "print(filtered_data.shape)\n",
    "print(filtered_labels.shape)"
   ]
  },
  {
   "cell_type": "code",
   "execution_count": 5,
   "metadata": {},
   "outputs": [
    {
     "name": "stdout",
     "output_type": "stream",
     "text": [
      "(3457,)\n",
      "[[   0 1158]\n",
      " [   1 2299]]\n"
     ]
    }
   ],
   "source": [
    "from sklearn.preprocessing import LabelEncoder\n",
    "enc = LabelEncoder()\n",
    "labels_encoded = enc.fit_transform(filtered_labels)\n",
    "print(labels_encoded.shape)\n",
    "unique_labels, counts = np.unique(labels_encoded,return_counts=True)\n",
    "print(np.asarray((unique_labels, counts)).T)"
   ]
  },
  {
   "cell_type": "code",
   "execution_count": 18,
   "metadata": {},
   "outputs": [
    {
     "name": "stdout",
     "output_type": "stream",
     "text": [
      "Device: cuda:0\n",
      "Epoch [1/5], Loss: 1.4622\n",
      "Epoch [2/5], Loss: 1.1689\n",
      "Epoch [3/5], Loss: 1.0913\n",
      "Epoch [4/5], Loss: 1.0440\n",
      "Epoch [5/5], Loss: 1.0192\n",
      "Mean accuracy for current fold: 0.6667613636363636\n",
      "Epoch [1/5], Loss: 1.4347\n",
      "Epoch [2/5], Loss: 1.1681\n",
      "Epoch [3/5], Loss: 1.0816\n",
      "Epoch [4/5], Loss: 1.0458\n",
      "Epoch [5/5], Loss: 1.0208\n",
      "Mean accuracy for current fold: 0.6625\n",
      "Epoch [1/5], Loss: 1.3954\n",
      "Epoch [2/5], Loss: 1.1359\n",
      "Epoch [3/5], Loss: 1.0648\n",
      "Epoch [4/5], Loss: 1.0345\n",
      "Epoch [5/5], Loss: 1.0261\n",
      "Mean accuracy for current fold: 0.6498953349282297\n",
      "Epoch [1/5], Loss: 1.3531\n",
      "Epoch [2/5], Loss: 1.1532\n",
      "Epoch [3/5], Loss: 1.0600\n",
      "Epoch [4/5], Loss: 1.0376\n",
      "Epoch [5/5], Loss: 1.0217\n",
      "Mean accuracy for current fold: 0.6513157894736842\n",
      "Epoch [1/5], Loss: 1.4574\n",
      "Epoch [2/5], Loss: 1.2145\n",
      "Epoch [3/5], Loss: 1.0896\n",
      "Epoch [4/5], Loss: 1.0441\n",
      "Epoch [5/5], Loss: 1.0237\n",
      "Mean accuracy for current fold: 0.6698564593301435\n"
     ]
    }
   ],
   "source": [
    "from classify import classify_torch\n",
    "from classify import EEGNet\n",
    "kwargs = {'num_electrodes':filtered_data.shape[1], 'chunk_size': filtered_data.shape[-1]}\n",
    "metrics_dict = classify_torch(filtered_data,labels_encoded,EEGNet,kwargs=kwargs,bayesian=True,num_epochs=5)"
   ]
  },
  {
   "cell_type": "code",
   "execution_count": 19,
   "metadata": {},
   "outputs": [
    {
     "name": "stdout",
     "output_type": "stream",
     "text": [
      "{'mean_accuracy': 0.6600657894736843, 'best_accuracy': 0.84375, 'worst_accuracy': 0.5, 'mean_precision': 0.5150405899735002, 'best_precision': 0.8500000000000001, 'worst_precision': 0.27419354838709675, 'mean_recall': 0.6600657894736843, 'best_recall': 0.84375, 'worst_recall': 0.5, 'mean_f1': 0.5449769318445924, 'best_f1': 0.8008474576271186, 'worst_f1': 0.35416666666666663, 'mean_difference': 0.3398900781024009, 'median_difference': 0.0}\n"
     ]
    }
   ],
   "source": [
    "print(metrics_dict)"
   ]
  }
 ],
 "metadata": {
  "kernelspec": {
   "display_name": "cuda",
   "language": "python",
   "name": "python3"
  },
  "language_info": {
   "codemirror_mode": {
    "name": "ipython",
    "version": 3
   },
   "file_extension": ".py",
   "mimetype": "text/x-python",
   "name": "python",
   "nbconvert_exporter": "python",
   "pygments_lexer": "ipython3",
   "version": "3.12.3"
  }
 },
 "nbformat": 4,
 "nbformat_minor": 2
}
