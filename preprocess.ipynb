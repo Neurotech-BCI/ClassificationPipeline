{
 "cells": [
  {
   "cell_type": "code",
   "execution_count": null,
   "id": "2a25eb40",
   "metadata": {},
   "outputs": [],
   "source": [
    "import pandas as pd \n",
    "import numpy as np \n",
    "from scipy.signal import butter, filtfilt\n",
    "from scipy.stats import zscore\n",
    "\n",
    "def bandpass_filter(data, lowcut, highcut, fs, order=4):\n",
    "    nyquist = 0.5 * fs \n",
    "    low = lowcut / nyquist\n",
    "    high = highcut / nyquist\n",
    "    b, a = butter(order, [low, high], btype='band')\n",
    "    return filtfilt(b, a, data, axis=-1)\n",
    "\n",
    "### Given the raw EEG csv loaded as a pandas dataframe, perform basic preprocessing and return epochs in shape (10, 16, 1000) ###\n",
    "def preprocess(block, sfreq = 125):\n",
    "    eeg_data = block.iloc[:, 1:17].to_numpy().T * 1e-6\n",
    "    eeg_data = eeg_data[:,1250:11250]\n",
    "    eeg_data = np.array(np.split(eeg_data,10,axis=-1))\n",
    "    filtered = bandpass_filter(eeg_data, 0.5, 40, sfreq)\n",
    "    return filtered\n",
    "def preprocess_data(name,number):\n",
    "    blocks = []\n",
    "    for i in range(1,6):\n",
    "        block = pd.read_csv(f\"data/raw/{name}_{i}_{number}.csv\", sep = '\\t', header=None)\n",
    "        block = preprocess(block)\n",
    "        blocks.append(block)\n",
    "    data = np.concatenate(blocks)\n",
    "    print(data.shape)\n",
    "    np.save(f\"data/preprocessed/data/{name}_{number}.npy\", data)\n"
   ]
  },
  {
   "cell_type": "code",
   "execution_count": 15,
   "id": "f239102f",
   "metadata": {},
   "outputs": [
    {
     "name": "stdout",
     "output_type": "stream",
     "text": [
      "(50, 16, 1000)\n",
      "(50, 16, 1000)\n",
      "(50, 16, 1000)\n",
      "(50, 16, 1000)\n",
      "(50, 16, 1000)\n",
      "(50, 16, 1000)\n",
      "(50, 16, 1000)\n",
      "(50, 16, 1000)\n",
      "(50, 16, 1000)\n",
      "(50, 16, 1000)\n",
      "(50, 16, 1000)\n",
      "(50, 16, 1000)\n",
      "(50, 16, 1000)\n"
     ]
    }
   ],
   "source": [
    "names = [\"onno\", \"yoyo\", \"emma\"]\n",
    "num_samples = [5,6,2]\n",
    "for name, num in zip(names,num_samples):\n",
    "    for i in range(1,num+1):\n",
    "        preprocess_data(name,i)"
   ]
  }
 ],
 "metadata": {
  "kernelspec": {
   "display_name": "neurotech",
   "language": "python",
   "name": "python3"
  },
  "language_info": {
   "codemirror_mode": {
    "name": "ipython",
    "version": 3
   },
   "file_extension": ".py",
   "mimetype": "text/x-python",
   "name": "python",
   "nbconvert_exporter": "python",
   "pygments_lexer": "ipython3",
   "version": "3.13.1"
  }
 },
 "nbformat": 4,
 "nbformat_minor": 5
}
