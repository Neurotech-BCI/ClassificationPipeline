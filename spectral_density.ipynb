{
 "cells": [
  {
   "cell_type": "code",
   "execution_count": 1,
   "metadata": {},
   "outputs": [],
   "source": [
    "import numpy as np\n",
    "import matplotlib.pyplot as plt\n",
    "from scipy.signal import get_window, welch"
   ]
  },
  {
   "cell_type": "code",
   "execution_count": 2,
   "metadata": {},
   "outputs": [],
   "source": [
    "#shape of data: subjects x channels x time steps\n",
    "\n",
    "frequency_bands = {\n",
    "    \"Delta\": (0.5, 3.5),\n",
    "    \"Theta\": (3.5, 7.5),\n",
    "    \"Lower Alpha\": (7.5,10),\n",
    "    \"Upper Alpha\": (10, 12.5),\n",
    "    \"Beta\": (12.5,30)\n",
    "}\n",
    "\n",
    "def apply_fft(data, fs): #freqs - 1D array of frequency bins, power spectrum is same shape as data, \n",
    "    n_samples = data.shape[-1]\n",
    "    window = get_window(\"hann\", n_samples)\n",
    "\n",
    "    freqs = np.fft.fftfreq(n_samples, 1/fs)\n",
    "    fft_results = np.fft.fft(data*window, axis=-1)\n",
    "    power_spectrum = np.abs(fft_results)** 2\n",
    "\n",
    "    return freqs, power_spectrum"
   ]
  },
  {
   "cell_type": "code",
   "execution_count": 6,
   "metadata": {},
   "outputs": [],
   "source": [
    "def band_power(freqs, power_spectrum, bands):\n",
    "    band_powers = {}\n",
    "    for band, (f_min, f_max) in bands.items():\n",
    "        band_idx = np.where((freqs >= f_min)& (freqs <= f_max))\n",
    "        band_powers[band] = np.mean(power_spectrum[:,band_idx], axis = -1)\n",
    "    return band_powers\n",
    "\n",
    "def log_transform(band_powers):\n",
    "    log_band_powers = {}\n",
    "    for band,power in band_powers.items():\n",
    "        log_band_powers[band]= np.log10(power)\n",
    "    return log_band_powers\n"
   ]
  },
  {
   "cell_type": "code",
   "execution_count": null,
   "metadata": {},
   "outputs": [],
   "source": [
    "#extract effects in the theta band\n",
    "def extract_theta_effects(log_band_powers):\n",
    "    return log_band_powers[\"Theta\"] \n",
    "\n"
   ]
  },
  {
   "cell_type": "code",
   "execution_count": null,
   "metadata": {},
   "outputs": [],
   "source": [
    "def get_theta_feature(data)\n",
    "    subjects, channels, timesteps = data.shape\n",
    "    theta_effects = np.zeros((subjects, channels))\n",
    "    s"
   ]
  },
  {
   "cell_type": "code",
   "execution_count": 7,
   "metadata": {},
   "outputs": [],
   "source": [
    "data = np.load(\"/Users/anusha/neurotech-bci/ClassificationPipeline/driver_fatigue.npy\")"
   ]
  },
  {
   "cell_type": "code",
   "execution_count": 9,
   "metadata": {},
   "outputs": [],
   "source": [
    "section = data[0:5, :, :]"
   ]
  },
  {
   "cell_type": "code",
   "execution_count": 15,
   "metadata": {},
   "outputs": [],
   "source": [
    "freqs, power_spectrum = apply_fft(section, 1000) #power spectrum"
   ]
  },
  {
   "cell_type": "code",
   "execution_count": 22,
   "metadata": {},
   "outputs": [
    {
     "data": {
      "text/plain": [
       "(599920,)"
      ]
     },
     "execution_count": 22,
     "metadata": {},
     "output_type": "execute_result"
    }
   ],
   "source": [
    "freqs.shape"
   ]
  },
  {
   "cell_type": "code",
   "execution_count": 21,
   "metadata": {},
   "outputs": [
    {
     "ename": "IndexError",
     "evalue": "index 300 is out of bounds for axis 1 with size 40",
     "output_type": "error",
     "traceback": [
      "\u001b[0;31m---------------------------------------------------------------------------\u001b[0m",
      "\u001b[0;31mIndexError\u001b[0m                                Traceback (most recent call last)",
      "Cell \u001b[0;32mIn[21], line 1\u001b[0m\n\u001b[0;32m----> 1\u001b[0m band_powers \u001b[38;5;241m=\u001b[39m \u001b[43mband_power\u001b[49m\u001b[43m(\u001b[49m\u001b[43mfreqs\u001b[49m\u001b[43m,\u001b[49m\u001b[43m \u001b[49m\u001b[43mpower_spectrum\u001b[49m\u001b[43m,\u001b[49m\u001b[43m \u001b[49m\u001b[43mfrequency_bands\u001b[49m\u001b[43m)\u001b[49m\n",
      "Cell \u001b[0;32mIn[6], line 5\u001b[0m, in \u001b[0;36mband_power\u001b[0;34m(freqs, power_spectrum, bands)\u001b[0m\n\u001b[1;32m      3\u001b[0m \u001b[38;5;28;01mfor\u001b[39;00m band, (f_min, f_max) \u001b[38;5;129;01min\u001b[39;00m bands\u001b[38;5;241m.\u001b[39mitems():\n\u001b[1;32m      4\u001b[0m     band_idx \u001b[38;5;241m=\u001b[39m np\u001b[38;5;241m.\u001b[39mwhere((freqs \u001b[38;5;241m>\u001b[39m\u001b[38;5;241m=\u001b[39m f_min)\u001b[38;5;241m&\u001b[39m (freqs \u001b[38;5;241m<\u001b[39m\u001b[38;5;241m=\u001b[39m f_max))\n\u001b[0;32m----> 5\u001b[0m     band_powers[band] \u001b[38;5;241m=\u001b[39m np\u001b[38;5;241m.\u001b[39mmean(\u001b[43mpower_spectrum\u001b[49m\u001b[43m[\u001b[49m\u001b[43m:\u001b[49m\u001b[43m,\u001b[49m\u001b[43mband_idx\u001b[49m\u001b[43m]\u001b[49m, axis \u001b[38;5;241m=\u001b[39m \u001b[38;5;241m-\u001b[39m\u001b[38;5;241m1\u001b[39m)\n\u001b[1;32m      6\u001b[0m \u001b[38;5;28;01mreturn\u001b[39;00m band_powers\n",
      "\u001b[0;31mIndexError\u001b[0m: index 300 is out of bounds for axis 1 with size 40"
     ]
    }
   ],
   "source": [
    "band_powers = band_power(freqs, power_spectrum, frequency_bands)"
   ]
  }
 ],
 "metadata": {
  "kernelspec": {
   "display_name": "bci_project",
   "language": "python",
   "name": "python3"
  },
  "language_info": {
   "codemirror_mode": {
    "name": "ipython",
    "version": 3
   },
   "file_extension": ".py",
   "mimetype": "text/x-python",
   "name": "python",
   "nbconvert_exporter": "python",
   "pygments_lexer": "ipython3",
   "version": "3.8.18"
  }
 },
 "nbformat": 4,
 "nbformat_minor": 2
}
